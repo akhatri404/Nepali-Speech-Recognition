{
  "nbformat": 4,
  "nbformat_minor": 0,
  "metadata": {
    "colab": {
      "provenance": [],
      "collapsed_sections": [
        "55f58psC6SJ6"
      ]
    },
    "kernelspec": {
      "name": "python3",
      "display_name": "Python 3"
    },
    "accelerator": "GPU"
  },
  "cells": [
    {
      "cell_type": "markdown",
      "metadata": {
        "id": "-M1pK3ND7Fb4"
      },
      "source": [
        "# Mount the Google Drive before running any cell"
      ]
    },
    {
      "cell_type": "code",
      "source": [
        "from google.colab import drive\n",
        "drive.mount('/content/drive')"
      ],
      "metadata": {
        "colab": {
          "base_uri": "https://localhost:8080/"
        },
        "id": "HOkq7em1XajU",
        "outputId": "d91abe88-16c3-4316-a84b-66fa6495df10"
      },
      "execution_count": null,
      "outputs": [
        {
          "output_type": "stream",
          "name": "stdout",
          "text": [
            "Mounted at /content/drive\n"
          ]
        }
      ]
    },
    {
      "cell_type": "code",
      "metadata": {
        "id": "jwodydAD0xAK"
      },
      "source": [
        "import os\n",
        "import sys\n",
        "import numpy as np\n",
        "import librosa\n",
        "from scipy.io import wavfile\n",
        "from statsmodels.tools import categorical\n",
        "import matplotlib.pyplot as plt\n",
        "from sklearn.model_selection import train_test_split\n",
        "\n",
        "from keras.layers import Input\n",
        "from keras import backend as K\n",
        "from keras.models import Model"
      ],
      "execution_count": null,
      "outputs": []
    },
    {
      "cell_type": "markdown",
      "metadata": {
        "id": "eICalQiw6Kwq"
      },
      "source": [
        "# Applying ButterWorth Band Pass filter"
      ]
    },
    {
      "cell_type": "code",
      "metadata": {
        "id": "evClFRs01TzV"
      },
      "source": [
        "from scipy.signal import butter, lfilter\n",
        "\n",
        "def butter_bandpass_filter(data, lowcut, highcut, fs, order):\n",
        "    nyq = 0.5 * fs\n",
        "    low = lowcut / nyq\n",
        "    high = highcut / nyq\n",
        "    b, a = butter(order, [low, high], btype='bandpass')\n",
        "    y = lfilter(b, a, data)\n",
        "    return y"
      ],
      "execution_count": null,
      "outputs": []
    },
    {
      "cell_type": "code",
      "metadata": {
        "id": "dhhjGoRUa4Gf"
      },
      "source": [
        "# Sample rate and desired cutoff frequencies (in Hz).\n",
        "fs = 44100\n",
        "lowcut = 600\n",
        "highcut = 6000"
      ],
      "execution_count": null,
      "outputs": []
    },
    {
      "cell_type": "markdown",
      "metadata": {
        "id": "55f58psC6SJ6"
      },
      "source": [
        "# MFCC Feature Extraction Process\n",
        "- No need to run the feature process.\n",
        "- It has already been extracted and stored at directory"
      ]
    },
    {
      "cell_type": "code",
      "metadata": {
        "id": "bCbrPxMj5LmG"
      },
      "source": [
        "def extract_features(path):\n",
        "\n",
        "    features = np.array([], dtype='float32')\n",
        "\n",
        "    files = [file for file in os.listdir(path)]\n",
        "\n",
        "    i=0\n",
        "    count=0\n",
        "    print(os.path.basename(path))\n",
        "    for file_name in files:\n",
        "\n",
        "        unit = os.path.join(path,(str)(file_name))\n",
        "        sample,sample_rate = librosa.load(unit, sr=44100)\n",
        "        filter_data = butter_bandpass_filter(sample, lowcut, highcut, fs, order=3)\n",
        "\n",
        "        i=i+1\n",
        "        print((str)(i)+\" files done.\")\n",
        "\n",
        "        mfccs = librosa.feature.mfcc(y=filter_data, sr=sample_rate, n_mfcc=26)     #frames (n_mfcc, track duration=600 all audio duration assuming)\n",
        "        mfccs = librosa.feature.delta(mfccs)\n",
        "        mfccs = np.transpose(mfccs) # ( frames, 26 )\n",
        "        mfccs = np.lib.pad(mfccs,((0,1105-mfccs.shape[0]),(0,0)), mode = 'constant', constant_values=0)\n",
        "        mfccs = mfccs[np.newaxis, :, :]\n",
        "\n",
        "        if count==0:\n",
        "            features = mfccs\n",
        "            count = 1\n",
        "        else:\n",
        "            features = np.vstack((features, mfccs)) # ( number of files, frames=600, 26 )\n",
        "\n",
        "    return np.array(features)"
      ],
      "execution_count": null,
      "outputs": []
    },
    {
      "cell_type": "code",
      "metadata": {
        "id": "lJycy1oK5QBy",
        "colab": {
          "base_uri": "https://localhost:8080/",
          "height": 1000
        },
        "outputId": "bc2b5b01-4826-431a-f8c1-f42ffeef103a"
      },
      "source": [
        "# extracting the features\n",
        "features = extract_features(\"./drive/My Drive/Thesis_new/dataset_slr\")"
      ],
      "execution_count": null,
      "outputs": [
        {
          "output_type": "stream",
          "text": [
            "dataset_slr\n",
            "1 files done.\n",
            "2 files done.\n",
            "3 files done.\n",
            "4 files done.\n",
            "5 files done.\n",
            "6 files done.\n",
            "7 files done.\n",
            "8 files done.\n",
            "9 files done.\n",
            "10 files done.\n",
            "11 files done.\n",
            "12 files done.\n",
            "13 files done.\n",
            "14 files done.\n",
            "15 files done.\n",
            "16 files done.\n",
            "17 files done.\n",
            "18 files done.\n",
            "19 files done.\n",
            "20 files done.\n",
            "21 files done.\n",
            "22 files done.\n",
            "23 files done.\n",
            "24 files done.\n",
            "25 files done.\n",
            "26 files done.\n",
            "27 files done.\n",
            "28 files done.\n",
            "29 files done.\n",
            "30 files done.\n",
            "31 files done.\n",
            "32 files done.\n",
            "33 files done.\n",
            "34 files done.\n",
            "35 files done.\n",
            "36 files done.\n",
            "37 files done.\n",
            "38 files done.\n",
            "39 files done.\n",
            "40 files done.\n",
            "41 files done.\n",
            "42 files done.\n",
            "43 files done.\n",
            "44 files done.\n",
            "45 files done.\n",
            "46 files done.\n",
            "47 files done.\n",
            "48 files done.\n",
            "49 files done.\n",
            "50 files done.\n",
            "51 files done.\n",
            "52 files done.\n",
            "53 files done.\n",
            "54 files done.\n",
            "55 files done.\n",
            "56 files done.\n",
            "57 files done.\n",
            "58 files done.\n",
            "59 files done.\n",
            "60 files done.\n",
            "61 files done.\n",
            "62 files done.\n",
            "63 files done.\n",
            "64 files done.\n",
            "65 files done.\n",
            "66 files done.\n",
            "67 files done.\n",
            "68 files done.\n",
            "69 files done.\n",
            "70 files done.\n",
            "71 files done.\n",
            "72 files done.\n",
            "73 files done.\n",
            "74 files done.\n",
            "75 files done.\n",
            "76 files done.\n",
            "77 files done.\n",
            "78 files done.\n",
            "79 files done.\n",
            "80 files done.\n",
            "81 files done.\n",
            "82 files done.\n",
            "83 files done.\n",
            "84 files done.\n",
            "85 files done.\n",
            "86 files done.\n",
            "87 files done.\n",
            "88 files done.\n",
            "89 files done.\n",
            "90 files done.\n",
            "91 files done.\n",
            "92 files done.\n",
            "93 files done.\n",
            "94 files done.\n",
            "95 files done.\n",
            "96 files done.\n",
            "97 files done.\n",
            "98 files done.\n",
            "99 files done.\n",
            "100 files done.\n",
            "101 files done.\n",
            "102 files done.\n",
            "103 files done.\n",
            "104 files done.\n",
            "105 files done.\n",
            "106 files done.\n",
            "107 files done.\n",
            "108 files done.\n",
            "109 files done.\n",
            "110 files done.\n",
            "111 files done.\n",
            "112 files done.\n",
            "113 files done.\n",
            "114 files done.\n",
            "115 files done.\n",
            "116 files done.\n",
            "117 files done.\n",
            "118 files done.\n",
            "119 files done.\n",
            "120 files done.\n",
            "121 files done.\n",
            "122 files done.\n",
            "123 files done.\n",
            "124 files done.\n",
            "125 files done.\n",
            "126 files done.\n",
            "127 files done.\n",
            "128 files done.\n",
            "129 files done.\n",
            "130 files done.\n",
            "131 files done.\n",
            "132 files done.\n",
            "133 files done.\n",
            "134 files done.\n",
            "135 files done.\n",
            "136 files done.\n",
            "137 files done.\n",
            "138 files done.\n",
            "139 files done.\n",
            "140 files done.\n",
            "141 files done.\n",
            "142 files done.\n",
            "143 files done.\n",
            "144 files done.\n",
            "145 files done.\n",
            "146 files done.\n",
            "147 files done.\n",
            "148 files done.\n",
            "149 files done.\n",
            "150 files done.\n",
            "151 files done.\n",
            "152 files done.\n",
            "153 files done.\n",
            "154 files done.\n",
            "155 files done.\n",
            "156 files done.\n",
            "157 files done.\n",
            "158 files done.\n",
            "159 files done.\n",
            "160 files done.\n",
            "161 files done.\n",
            "162 files done.\n",
            "163 files done.\n",
            "164 files done.\n",
            "165 files done.\n",
            "166 files done.\n",
            "167 files done.\n",
            "168 files done.\n",
            "169 files done.\n",
            "170 files done.\n",
            "171 files done.\n",
            "172 files done.\n",
            "173 files done.\n",
            "174 files done.\n",
            "175 files done.\n",
            "176 files done.\n",
            "177 files done.\n",
            "178 files done.\n",
            "179 files done.\n",
            "180 files done.\n",
            "181 files done.\n",
            "182 files done.\n",
            "183 files done.\n",
            "184 files done.\n",
            "185 files done.\n",
            "186 files done.\n",
            "187 files done.\n",
            "188 files done.\n",
            "189 files done.\n",
            "190 files done.\n",
            "191 files done.\n",
            "192 files done.\n",
            "193 files done.\n",
            "194 files done.\n",
            "195 files done.\n",
            "196 files done.\n",
            "197 files done.\n",
            "198 files done.\n",
            "199 files done.\n",
            "200 files done.\n",
            "201 files done.\n",
            "202 files done.\n",
            "203 files done.\n",
            "204 files done.\n",
            "205 files done.\n",
            "206 files done.\n",
            "207 files done.\n",
            "208 files done.\n",
            "209 files done.\n",
            "210 files done.\n",
            "211 files done.\n",
            "212 files done.\n",
            "213 files done.\n",
            "214 files done.\n",
            "215 files done.\n",
            "216 files done.\n",
            "217 files done.\n",
            "218 files done.\n",
            "219 files done.\n",
            "220 files done.\n",
            "221 files done.\n",
            "222 files done.\n",
            "223 files done.\n",
            "224 files done.\n",
            "225 files done.\n",
            "226 files done.\n",
            "227 files done.\n",
            "228 files done.\n",
            "229 files done.\n",
            "230 files done.\n",
            "231 files done.\n",
            "232 files done.\n",
            "233 files done.\n",
            "234 files done.\n",
            "235 files done.\n",
            "236 files done.\n",
            "237 files done.\n",
            "238 files done.\n",
            "239 files done.\n",
            "240 files done.\n",
            "241 files done.\n",
            "242 files done.\n",
            "243 files done.\n",
            "244 files done.\n",
            "245 files done.\n",
            "246 files done.\n",
            "247 files done.\n",
            "248 files done.\n",
            "249 files done.\n",
            "250 files done.\n",
            "251 files done.\n",
            "252 files done.\n",
            "253 files done.\n",
            "254 files done.\n",
            "255 files done.\n",
            "256 files done.\n",
            "257 files done.\n",
            "258 files done.\n",
            "259 files done.\n",
            "260 files done.\n",
            "261 files done.\n",
            "262 files done.\n",
            "263 files done.\n",
            "264 files done.\n",
            "265 files done.\n",
            "266 files done.\n",
            "267 files done.\n",
            "268 files done.\n",
            "269 files done.\n",
            "270 files done.\n",
            "271 files done.\n",
            "272 files done.\n",
            "273 files done.\n",
            "274 files done.\n",
            "275 files done.\n",
            "276 files done.\n",
            "277 files done.\n",
            "278 files done.\n",
            "279 files done.\n",
            "280 files done.\n",
            "281 files done.\n",
            "282 files done.\n",
            "283 files done.\n",
            "284 files done.\n",
            "285 files done.\n",
            "286 files done.\n",
            "287 files done.\n",
            "288 files done.\n",
            "289 files done.\n",
            "290 files done.\n",
            "291 files done.\n",
            "292 files done.\n",
            "293 files done.\n",
            "294 files done.\n",
            "295 files done.\n",
            "296 files done.\n",
            "297 files done.\n",
            "298 files done.\n",
            "299 files done.\n",
            "300 files done.\n",
            "301 files done.\n",
            "302 files done.\n",
            "303 files done.\n",
            "304 files done.\n",
            "305 files done.\n",
            "306 files done.\n",
            "307 files done.\n",
            "308 files done.\n",
            "309 files done.\n",
            "310 files done.\n",
            "311 files done.\n",
            "312 files done.\n",
            "313 files done.\n",
            "314 files done.\n",
            "315 files done.\n",
            "316 files done.\n",
            "317 files done.\n",
            "318 files done.\n",
            "319 files done.\n",
            "320 files done.\n",
            "321 files done.\n",
            "322 files done.\n",
            "323 files done.\n",
            "324 files done.\n",
            "325 files done.\n",
            "326 files done.\n",
            "327 files done.\n",
            "328 files done.\n",
            "329 files done.\n",
            "330 files done.\n",
            "331 files done.\n",
            "332 files done.\n",
            "333 files done.\n",
            "334 files done.\n",
            "335 files done.\n",
            "336 files done.\n",
            "337 files done.\n",
            "338 files done.\n",
            "339 files done.\n",
            "340 files done.\n",
            "341 files done.\n",
            "342 files done.\n",
            "343 files done.\n",
            "344 files done.\n",
            "345 files done.\n",
            "346 files done.\n",
            "347 files done.\n",
            "348 files done.\n",
            "349 files done.\n",
            "350 files done.\n",
            "351 files done.\n",
            "352 files done.\n",
            "353 files done.\n",
            "354 files done.\n",
            "355 files done.\n",
            "356 files done.\n",
            "357 files done.\n",
            "358 files done.\n",
            "359 files done.\n",
            "360 files done.\n",
            "361 files done.\n",
            "362 files done.\n",
            "363 files done.\n",
            "364 files done.\n",
            "365 files done.\n",
            "366 files done.\n",
            "367 files done.\n",
            "368 files done.\n",
            "369 files done.\n",
            "370 files done.\n",
            "371 files done.\n",
            "372 files done.\n",
            "373 files done.\n",
            "374 files done.\n",
            "375 files done.\n",
            "376 files done.\n",
            "377 files done.\n",
            "378 files done.\n",
            "379 files done.\n",
            "380 files done.\n",
            "381 files done.\n",
            "382 files done.\n",
            "383 files done.\n",
            "384 files done.\n",
            "385 files done.\n",
            "386 files done.\n",
            "387 files done.\n",
            "388 files done.\n",
            "389 files done.\n",
            "390 files done.\n",
            "391 files done.\n",
            "392 files done.\n",
            "393 files done.\n",
            "394 files done.\n",
            "395 files done.\n",
            "396 files done.\n",
            "397 files done.\n",
            "398 files done.\n",
            "399 files done.\n",
            "400 files done.\n",
            "401 files done.\n",
            "402 files done.\n",
            "403 files done.\n",
            "404 files done.\n",
            "405 files done.\n",
            "406 files done.\n",
            "407 files done.\n",
            "408 files done.\n",
            "409 files done.\n",
            "410 files done.\n",
            "411 files done.\n",
            "412 files done.\n",
            "413 files done.\n",
            "414 files done.\n",
            "415 files done.\n",
            "416 files done.\n",
            "417 files done.\n",
            "418 files done.\n",
            "419 files done.\n",
            "420 files done.\n",
            "421 files done.\n",
            "422 files done.\n",
            "423 files done.\n",
            "424 files done.\n",
            "425 files done.\n",
            "426 files done.\n",
            "427 files done.\n",
            "428 files done.\n",
            "429 files done.\n",
            "430 files done.\n",
            "431 files done.\n",
            "432 files done.\n",
            "433 files done.\n",
            "434 files done.\n",
            "435 files done.\n",
            "436 files done.\n",
            "437 files done.\n",
            "438 files done.\n",
            "439 files done.\n",
            "440 files done.\n",
            "441 files done.\n",
            "442 files done.\n",
            "443 files done.\n",
            "444 files done.\n",
            "445 files done.\n",
            "446 files done.\n",
            "447 files done.\n",
            "448 files done.\n",
            "449 files done.\n",
            "450 files done.\n",
            "451 files done.\n",
            "452 files done.\n",
            "453 files done.\n",
            "454 files done.\n",
            "455 files done.\n",
            "456 files done.\n",
            "457 files done.\n",
            "458 files done.\n",
            "459 files done.\n",
            "460 files done.\n",
            "461 files done.\n",
            "462 files done.\n",
            "463 files done.\n",
            "464 files done.\n",
            "465 files done.\n",
            "466 files done.\n",
            "467 files done.\n",
            "468 files done.\n",
            "469 files done.\n",
            "470 files done.\n",
            "471 files done.\n",
            "472 files done.\n",
            "473 files done.\n",
            "474 files done.\n",
            "475 files done.\n",
            "476 files done.\n",
            "477 files done.\n",
            "478 files done.\n",
            "479 files done.\n",
            "480 files done.\n",
            "481 files done.\n",
            "482 files done.\n",
            "483 files done.\n",
            "484 files done.\n",
            "485 files done.\n",
            "486 files done.\n",
            "487 files done.\n",
            "488 files done.\n",
            "489 files done.\n",
            "490 files done.\n",
            "491 files done.\n",
            "492 files done.\n",
            "493 files done.\n",
            "494 files done.\n",
            "495 files done.\n",
            "496 files done.\n",
            "497 files done.\n",
            "498 files done.\n",
            "499 files done.\n",
            "500 files done.\n",
            "501 files done.\n",
            "502 files done.\n",
            "503 files done.\n",
            "504 files done.\n",
            "505 files done.\n",
            "506 files done.\n",
            "507 files done.\n",
            "508 files done.\n",
            "509 files done.\n",
            "510 files done.\n",
            "511 files done.\n",
            "512 files done.\n",
            "513 files done.\n",
            "514 files done.\n",
            "515 files done.\n",
            "516 files done.\n",
            "517 files done.\n",
            "518 files done.\n",
            "519 files done.\n",
            "520 files done.\n",
            "521 files done.\n",
            "522 files done.\n",
            "523 files done.\n",
            "524 files done.\n",
            "525 files done.\n",
            "526 files done.\n",
            "527 files done.\n",
            "528 files done.\n",
            "529 files done.\n",
            "530 files done.\n",
            "531 files done.\n",
            "532 files done.\n",
            "533 files done.\n",
            "534 files done.\n",
            "535 files done.\n",
            "536 files done.\n",
            "537 files done.\n",
            "538 files done.\n",
            "539 files done.\n",
            "540 files done.\n",
            "541 files done.\n",
            "542 files done.\n",
            "543 files done.\n",
            "544 files done.\n",
            "545 files done.\n",
            "546 files done.\n",
            "547 files done.\n",
            "548 files done.\n",
            "549 files done.\n",
            "550 files done.\n",
            "551 files done.\n",
            "552 files done.\n",
            "553 files done.\n",
            "554 files done.\n",
            "555 files done.\n",
            "556 files done.\n",
            "557 files done.\n",
            "558 files done.\n",
            "559 files done.\n",
            "560 files done.\n",
            "561 files done.\n",
            "562 files done.\n",
            "563 files done.\n",
            "564 files done.\n",
            "565 files done.\n",
            "566 files done.\n",
            "567 files done.\n",
            "568 files done.\n",
            "569 files done.\n",
            "570 files done.\n",
            "571 files done.\n",
            "572 files done.\n",
            "573 files done.\n",
            "574 files done.\n",
            "575 files done.\n",
            "576 files done.\n",
            "577 files done.\n",
            "578 files done.\n",
            "579 files done.\n",
            "580 files done.\n",
            "581 files done.\n",
            "582 files done.\n",
            "583 files done.\n",
            "584 files done.\n",
            "585 files done.\n",
            "586 files done.\n",
            "587 files done.\n",
            "588 files done.\n",
            "589 files done.\n",
            "590 files done.\n",
            "591 files done.\n",
            "592 files done.\n",
            "593 files done.\n",
            "594 files done.\n",
            "595 files done.\n",
            "596 files done.\n",
            "597 files done.\n",
            "598 files done.\n",
            "599 files done.\n",
            "600 files done.\n",
            "601 files done.\n",
            "602 files done.\n",
            "603 files done.\n",
            "604 files done.\n",
            "605 files done.\n",
            "606 files done.\n",
            "607 files done.\n",
            "608 files done.\n",
            "609 files done.\n",
            "610 files done.\n",
            "611 files done.\n",
            "612 files done.\n",
            "613 files done.\n",
            "614 files done.\n",
            "615 files done.\n",
            "616 files done.\n",
            "617 files done.\n",
            "618 files done.\n",
            "619 files done.\n",
            "620 files done.\n",
            "621 files done.\n",
            "622 files done.\n",
            "623 files done.\n",
            "624 files done.\n",
            "625 files done.\n",
            "626 files done.\n",
            "627 files done.\n",
            "628 files done.\n",
            "629 files done.\n",
            "630 files done.\n",
            "631 files done.\n",
            "632 files done.\n",
            "633 files done.\n",
            "634 files done.\n",
            "635 files done.\n",
            "636 files done.\n",
            "637 files done.\n",
            "638 files done.\n",
            "639 files done.\n",
            "640 files done.\n",
            "641 files done.\n",
            "642 files done.\n",
            "643 files done.\n",
            "644 files done.\n",
            "645 files done.\n",
            "646 files done.\n",
            "647 files done.\n",
            "648 files done.\n",
            "649 files done.\n",
            "650 files done.\n",
            "651 files done.\n",
            "652 files done.\n",
            "653 files done.\n",
            "654 files done.\n",
            "655 files done.\n",
            "656 files done.\n",
            "657 files done.\n",
            "658 files done.\n",
            "659 files done.\n",
            "660 files done.\n",
            "661 files done.\n",
            "662 files done.\n",
            "663 files done.\n",
            "664 files done.\n",
            "665 files done.\n",
            "666 files done.\n",
            "667 files done.\n",
            "668 files done.\n",
            "669 files done.\n",
            "670 files done.\n",
            "671 files done.\n",
            "672 files done.\n",
            "673 files done.\n",
            "674 files done.\n",
            "675 files done.\n",
            "676 files done.\n",
            "677 files done.\n",
            "678 files done.\n",
            "679 files done.\n",
            "680 files done.\n",
            "681 files done.\n",
            "682 files done.\n",
            "683 files done.\n",
            "684 files done.\n",
            "685 files done.\n",
            "686 files done.\n",
            "687 files done.\n",
            "688 files done.\n",
            "689 files done.\n",
            "690 files done.\n",
            "691 files done.\n",
            "692 files done.\n",
            "693 files done.\n",
            "694 files done.\n",
            "695 files done.\n",
            "696 files done.\n",
            "697 files done.\n",
            "698 files done.\n",
            "699 files done.\n",
            "700 files done.\n",
            "701 files done.\n",
            "702 files done.\n",
            "703 files done.\n",
            "704 files done.\n",
            "705 files done.\n",
            "706 files done.\n",
            "707 files done.\n",
            "708 files done.\n",
            "709 files done.\n",
            "710 files done.\n",
            "711 files done.\n",
            "712 files done.\n",
            "713 files done.\n",
            "714 files done.\n",
            "715 files done.\n",
            "716 files done.\n",
            "717 files done.\n",
            "718 files done.\n",
            "719 files done.\n",
            "720 files done.\n",
            "721 files done.\n",
            "722 files done.\n",
            "723 files done.\n",
            "724 files done.\n",
            "725 files done.\n",
            "726 files done.\n",
            "727 files done.\n",
            "728 files done.\n",
            "729 files done.\n",
            "730 files done.\n",
            "731 files done.\n",
            "732 files done.\n",
            "733 files done.\n",
            "734 files done.\n",
            "735 files done.\n",
            "736 files done.\n",
            "737 files done.\n",
            "738 files done.\n",
            "739 files done.\n",
            "740 files done.\n",
            "741 files done.\n",
            "742 files done.\n",
            "743 files done.\n",
            "744 files done.\n",
            "745 files done.\n",
            "746 files done.\n",
            "747 files done.\n",
            "748 files done.\n",
            "749 files done.\n",
            "750 files done.\n",
            "751 files done.\n",
            "752 files done.\n",
            "753 files done.\n",
            "754 files done.\n",
            "755 files done.\n",
            "756 files done.\n",
            "757 files done.\n",
            "758 files done.\n",
            "759 files done.\n",
            "760 files done.\n",
            "761 files done.\n",
            "762 files done.\n",
            "763 files done.\n",
            "764 files done.\n",
            "765 files done.\n",
            "766 files done.\n",
            "767 files done.\n",
            "768 files done.\n",
            "769 files done.\n",
            "770 files done.\n",
            "771 files done.\n",
            "772 files done.\n",
            "773 files done.\n",
            "774 files done.\n",
            "775 files done.\n",
            "776 files done.\n",
            "777 files done.\n",
            "778 files done.\n",
            "779 files done.\n",
            "780 files done.\n",
            "781 files done.\n",
            "782 files done.\n",
            "783 files done.\n",
            "784 files done.\n",
            "785 files done.\n",
            "786 files done.\n",
            "787 files done.\n",
            "788 files done.\n",
            "789 files done.\n",
            "790 files done.\n",
            "791 files done.\n",
            "792 files done.\n",
            "793 files done.\n",
            "794 files done.\n",
            "795 files done.\n",
            "796 files done.\n",
            "797 files done.\n",
            "798 files done.\n",
            "799 files done.\n",
            "800 files done.\n",
            "801 files done.\n",
            "802 files done.\n",
            "803 files done.\n",
            "804 files done.\n",
            "805 files done.\n",
            "806 files done.\n",
            "807 files done.\n",
            "808 files done.\n",
            "809 files done.\n",
            "810 files done.\n",
            "811 files done.\n",
            "812 files done.\n",
            "813 files done.\n",
            "814 files done.\n",
            "815 files done.\n",
            "816 files done.\n",
            "817 files done.\n",
            "818 files done.\n",
            "819 files done.\n",
            "820 files done.\n",
            "821 files done.\n",
            "822 files done.\n",
            "823 files done.\n",
            "824 files done.\n",
            "825 files done.\n",
            "826 files done.\n",
            "827 files done.\n",
            "828 files done.\n",
            "829 files done.\n",
            "830 files done.\n",
            "831 files done.\n",
            "832 files done.\n",
            "833 files done.\n",
            "834 files done.\n",
            "835 files done.\n",
            "836 files done.\n",
            "837 files done.\n",
            "838 files done.\n",
            "839 files done.\n",
            "840 files done.\n",
            "841 files done.\n",
            "842 files done.\n",
            "843 files done.\n",
            "844 files done.\n",
            "845 files done.\n",
            "846 files done.\n",
            "847 files done.\n",
            "848 files done.\n",
            "849 files done.\n",
            "850 files done.\n",
            "851 files done.\n",
            "852 files done.\n",
            "853 files done.\n",
            "854 files done.\n",
            "855 files done.\n",
            "856 files done.\n",
            "857 files done.\n",
            "858 files done.\n",
            "859 files done.\n",
            "860 files done.\n",
            "861 files done.\n",
            "862 files done.\n",
            "863 files done.\n",
            "864 files done.\n",
            "865 files done.\n",
            "866 files done.\n",
            "867 files done.\n",
            "868 files done.\n",
            "869 files done.\n",
            "870 files done.\n",
            "871 files done.\n",
            "872 files done.\n",
            "873 files done.\n",
            "874 files done.\n",
            "875 files done.\n",
            "876 files done.\n",
            "877 files done.\n",
            "878 files done.\n",
            "879 files done.\n",
            "880 files done.\n",
            "881 files done.\n",
            "882 files done.\n",
            "883 files done.\n",
            "884 files done.\n",
            "885 files done.\n",
            "886 files done.\n",
            "887 files done.\n",
            "888 files done.\n",
            "889 files done.\n",
            "890 files done.\n",
            "891 files done.\n",
            "892 files done.\n",
            "893 files done.\n",
            "894 files done.\n",
            "895 files done.\n",
            "896 files done.\n",
            "897 files done.\n",
            "898 files done.\n",
            "899 files done.\n",
            "900 files done.\n",
            "901 files done.\n",
            "902 files done.\n",
            "903 files done.\n",
            "904 files done.\n",
            "905 files done.\n",
            "906 files done.\n",
            "907 files done.\n",
            "908 files done.\n",
            "909 files done.\n",
            "910 files done.\n",
            "911 files done.\n",
            "912 files done.\n",
            "913 files done.\n",
            "914 files done.\n",
            "915 files done.\n",
            "916 files done.\n",
            "917 files done.\n",
            "918 files done.\n",
            "919 files done.\n",
            "920 files done.\n",
            "921 files done.\n",
            "922 files done.\n",
            "923 files done.\n",
            "924 files done.\n",
            "925 files done.\n",
            "926 files done.\n",
            "927 files done.\n",
            "928 files done.\n",
            "929 files done.\n",
            "930 files done.\n",
            "931 files done.\n",
            "932 files done.\n",
            "933 files done.\n",
            "934 files done.\n",
            "935 files done.\n",
            "936 files done.\n",
            "937 files done.\n",
            "938 files done.\n",
            "939 files done.\n",
            "940 files done.\n",
            "941 files done.\n",
            "942 files done.\n",
            "943 files done.\n",
            "944 files done.\n",
            "945 files done.\n",
            "946 files done.\n",
            "947 files done.\n",
            "948 files done.\n",
            "949 files done.\n",
            "950 files done.\n",
            "951 files done.\n",
            "952 files done.\n",
            "953 files done.\n",
            "954 files done.\n",
            "955 files done.\n",
            "956 files done.\n",
            "957 files done.\n",
            "958 files done.\n",
            "959 files done.\n",
            "960 files done.\n",
            "961 files done.\n",
            "962 files done.\n",
            "963 files done.\n",
            "964 files done.\n",
            "965 files done.\n",
            "966 files done.\n",
            "967 files done.\n",
            "968 files done.\n",
            "969 files done.\n",
            "970 files done.\n",
            "971 files done.\n",
            "972 files done.\n",
            "973 files done.\n",
            "974 files done.\n",
            "975 files done.\n",
            "976 files done.\n",
            "977 files done.\n",
            "978 files done.\n",
            "979 files done.\n",
            "980 files done.\n",
            "981 files done.\n",
            "982 files done.\n",
            "983 files done.\n",
            "984 files done.\n",
            "985 files done.\n",
            "986 files done.\n",
            "987 files done.\n",
            "988 files done.\n",
            "989 files done.\n",
            "990 files done.\n",
            "991 files done.\n",
            "992 files done.\n",
            "993 files done.\n",
            "994 files done.\n",
            "995 files done.\n",
            "996 files done.\n",
            "997 files done.\n",
            "998 files done.\n",
            "999 files done.\n",
            "1000 files done.\n",
            "1001 files done.\n",
            "1002 files done.\n",
            "1003 files done.\n",
            "1004 files done.\n",
            "1005 files done.\n",
            "1006 files done.\n",
            "1007 files done.\n",
            "1008 files done.\n",
            "1009 files done.\n",
            "1010 files done.\n",
            "1011 files done.\n",
            "1012 files done.\n",
            "1013 files done.\n",
            "1014 files done.\n",
            "1015 files done.\n",
            "1016 files done.\n",
            "1017 files done.\n",
            "1018 files done.\n",
            "1019 files done.\n",
            "1020 files done.\n",
            "1021 files done.\n",
            "1022 files done.\n",
            "1023 files done.\n",
            "1024 files done.\n",
            "1025 files done.\n",
            "1026 files done.\n",
            "1027 files done.\n",
            "1028 files done.\n",
            "1029 files done.\n",
            "1030 files done.\n",
            "1031 files done.\n",
            "1032 files done.\n",
            "1033 files done.\n",
            "1034 files done.\n",
            "1035 files done.\n",
            "1036 files done.\n",
            "1037 files done.\n",
            "1038 files done.\n",
            "1039 files done.\n",
            "1040 files done.\n",
            "1041 files done.\n",
            "1042 files done.\n",
            "1043 files done.\n",
            "1044 files done.\n",
            "1045 files done.\n",
            "1046 files done.\n",
            "1047 files done.\n",
            "1048 files done.\n",
            "1049 files done.\n",
            "1050 files done.\n",
            "1051 files done.\n",
            "1052 files done.\n",
            "1053 files done.\n",
            "1054 files done.\n",
            "1055 files done.\n",
            "1056 files done.\n",
            "1057 files done.\n",
            "1058 files done.\n",
            "1059 files done.\n",
            "1060 files done.\n",
            "1061 files done.\n",
            "1062 files done.\n",
            "1063 files done.\n",
            "1064 files done.\n",
            "1065 files done.\n",
            "1066 files done.\n",
            "1067 files done.\n",
            "1068 files done.\n",
            "1069 files done.\n",
            "1070 files done.\n",
            "1071 files done.\n",
            "1072 files done.\n",
            "1073 files done.\n",
            "1074 files done.\n",
            "1075 files done.\n",
            "1076 files done.\n",
            "1077 files done.\n",
            "1078 files done.\n",
            "1079 files done.\n",
            "1080 files done.\n",
            "1081 files done.\n",
            "1082 files done.\n",
            "1083 files done.\n",
            "1084 files done.\n",
            "1085 files done.\n",
            "1086 files done.\n",
            "1087 files done.\n",
            "1088 files done.\n",
            "1089 files done.\n",
            "1090 files done.\n",
            "1091 files done.\n",
            "1092 files done.\n",
            "1093 files done.\n",
            "1094 files done.\n",
            "1095 files done.\n",
            "1096 files done.\n",
            "1097 files done.\n",
            "1098 files done.\n",
            "1099 files done.\n",
            "1100 files done.\n",
            "1101 files done.\n",
            "1102 files done.\n",
            "1103 files done.\n",
            "1104 files done.\n",
            "1105 files done.\n",
            "1106 files done.\n",
            "1107 files done.\n",
            "1108 files done.\n",
            "1109 files done.\n",
            "1110 files done.\n",
            "1111 files done.\n",
            "1112 files done.\n",
            "1113 files done.\n",
            "1114 files done.\n",
            "1115 files done.\n",
            "1116 files done.\n",
            "1117 files done.\n",
            "1118 files done.\n",
            "1119 files done.\n",
            "1120 files done.\n",
            "1121 files done.\n",
            "1122 files done.\n",
            "1123 files done.\n",
            "1124 files done.\n",
            "1125 files done.\n",
            "1126 files done.\n",
            "1127 files done.\n",
            "1128 files done.\n",
            "1129 files done.\n",
            "1130 files done.\n",
            "1131 files done.\n",
            "1132 files done.\n",
            "1133 files done.\n",
            "1134 files done.\n",
            "1135 files done.\n",
            "1136 files done.\n",
            "1137 files done.\n",
            "1138 files done.\n",
            "1139 files done.\n",
            "1140 files done.\n",
            "1141 files done.\n",
            "1142 files done.\n",
            "1143 files done.\n",
            "1144 files done.\n",
            "1145 files done.\n",
            "1146 files done.\n",
            "1147 files done.\n",
            "1148 files done.\n",
            "1149 files done.\n",
            "1150 files done.\n",
            "1151 files done.\n",
            "1152 files done.\n",
            "1153 files done.\n",
            "1154 files done.\n",
            "1155 files done.\n",
            "1156 files done.\n",
            "1157 files done.\n",
            "1158 files done.\n",
            "1159 files done.\n",
            "1160 files done.\n",
            "1161 files done.\n",
            "1162 files done.\n",
            "1163 files done.\n",
            "1164 files done.\n",
            "1165 files done.\n",
            "1166 files done.\n",
            "1167 files done.\n",
            "1168 files done.\n",
            "1169 files done.\n",
            "1170 files done.\n",
            "1171 files done.\n",
            "1172 files done.\n",
            "1173 files done.\n",
            "1174 files done.\n",
            "1175 files done.\n",
            "1176 files done.\n",
            "1177 files done.\n",
            "1178 files done.\n",
            "1179 files done.\n",
            "1180 files done.\n",
            "1181 files done.\n",
            "1182 files done.\n",
            "1183 files done.\n",
            "1184 files done.\n",
            "1185 files done.\n",
            "1186 files done.\n",
            "1187 files done.\n",
            "1188 files done.\n",
            "1189 files done.\n",
            "1190 files done.\n",
            "1191 files done.\n",
            "1192 files done.\n",
            "1193 files done.\n",
            "1194 files done.\n",
            "1195 files done.\n",
            "1196 files done.\n",
            "1197 files done.\n",
            "1198 files done.\n",
            "1199 files done.\n",
            "1200 files done.\n",
            "1201 files done.\n",
            "1202 files done.\n",
            "1203 files done.\n",
            "1204 files done.\n",
            "1205 files done.\n",
            "1206 files done.\n",
            "1207 files done.\n",
            "1208 files done.\n",
            "1209 files done.\n",
            "1210 files done.\n",
            "1211 files done.\n",
            "1212 files done.\n",
            "1213 files done.\n",
            "1214 files done.\n",
            "1215 files done.\n",
            "1216 files done.\n",
            "1217 files done.\n",
            "1218 files done.\n",
            "1219 files done.\n",
            "1220 files done.\n",
            "1221 files done.\n",
            "1222 files done.\n",
            "1223 files done.\n",
            "1224 files done.\n",
            "1225 files done.\n",
            "1226 files done.\n",
            "1227 files done.\n",
            "1228 files done.\n"
          ],
          "name": "stdout"
        }
      ]
    },
    {
      "cell_type": "code",
      "metadata": {
        "id": "37QQqahQ_WYx",
        "colab": {
          "base_uri": "https://localhost:8080/",
          "height": 34
        },
        "outputId": "a81a4c84-3f64-497d-b1ff-069787309ba1"
      },
      "source": [
        "features.shape"
      ],
      "execution_count": null,
      "outputs": [
        {
          "output_type": "execute_result",
          "data": {
            "text/plain": [
              "(1228, 1105, 26)"
            ]
          },
          "metadata": {
            "tags": []
          },
          "execution_count": 12
        }
      ]
    },
    {
      "cell_type": "code",
      "metadata": {
        "id": "CkEsO_9W5R7c",
        "colab": {
          "base_uri": "https://localhost:8080/",
          "height": 297
        },
        "outputId": "c91af3b6-63c8-4444-d59f-b9751614a5ba"
      },
      "source": [
        "import librosa.display\n",
        "plt.figure(figsize=(10,4))\n",
        "librosa.display.specshow(features[0], x_axis='time')\n",
        "plt.colorbar(format='%+2.0f dB')\n",
        "plt.title('MFCC')\n",
        "plt.tight_layout()\n",
        "plt.show()"
      ],
      "execution_count": null,
      "outputs": [
        {
          "output_type": "display_data",
          "data": {
            "image/png": "[encoded data removed]",
            "text/plain": [
              "<Figure size 720x288 with 2 Axes>"
            ]
          },
          "metadata": {
            "tags": [],
            "needs_background": "light"
          }
        }
      ]
    },
    {
      "cell_type": "code",
      "metadata": {
        "id": "P3RvXno_5UDE"
      },
      "source": [
        "# already saved into the drive. re-run if the feature extraction was re-done\n",
        "np.save(\"mfcc_features_with_filter_sr44100\", features)     # saving the extracted features in local drive"
      ],
      "execution_count": null,
      "outputs": []
    },
    {
      "cell_type": "code",
      "metadata": {
        "id": "VZTHkDcv5WQa"
      },
      "source": [
        "audio = ('drive/My Drive/Thesis_new/dataset_slr/data_ (1).wav')"
      ],
      "execution_count": null,
      "outputs": []
    },
    {
      "cell_type": "code",
      "metadata": {
        "id": "GILbh5SZ5Ykb"
      },
      "source": [
        "y, sr = librosa.load(audio, sr=44100)"
      ],
      "execution_count": null,
      "outputs": []
    },
    {
      "cell_type": "code",
      "metadata": {
        "id": "DlOYSJ-UjyL5"
      },
      "source": [
        "Time = np.linspace(0, len(y) / fs, num=len(y))"
      ],
      "execution_count": null,
      "outputs": []
    },
    {
      "cell_type": "code",
      "metadata": {
        "id": "6VF94qYs7Uyp",
        "colab": {
          "base_uri": "https://localhost:8080/",
          "height": 295
        },
        "outputId": "7b05db15-039c-479e-a264-b358d8d26aa6"
      },
      "source": [
        "# plotting the original audio and the filtered audio as test\n",
        "plt.plot(Time,y, label='Original signal')\n",
        "plt.plot(Time, filter_data, label='Filtered signal')\n",
        "plt.xlabel('time')\n",
        "plt.grid(True)\n",
        "plt.axis('tight')\n",
        "plt.legend(loc='upper left')\n",
        "plt.title('Audio plot of 0th index dataset')\n",
        "plt.show()"
      ],
      "execution_count": null,
      "outputs": [
        {
          "output_type": "display_data",
          "data": {
            "image/png": "[encoded data removed]",
            "text/plain": [
              "<Figure size 432x288 with 1 Axes>"
            ]
          },
          "metadata": {
            "tags": [],
            "needs_background": "light"
          }
        }
      ]
    },
    {
      "cell_type": "code",
      "metadata": {
        "id": "kXjN_nyL5aTz"
      },
      "source": [
        "mfccs = librosa.feature.mfcc(y=filter_data, sr=sr, n_mfcc=26)"
      ],
      "execution_count": null,
      "outputs": []
    },
    {
      "cell_type": "code",
      "metadata": {
        "id": "4Of5Vjp75cQK",
        "colab": {
          "base_uri": "https://localhost:8080/",
          "height": 297
        },
        "outputId": "b10dde3e-d4ca-4374-ea13-a0dec7e3a252"
      },
      "source": [
        "import librosa.display\n",
        "plt.figure(figsize=(10,4))\n",
        "librosa.display.specshow(mfccs, x_axis='time')\n",
        "plt.colorbar(format='%+2.0f dB')\n",
        "plt.title('MFCC')\n",
        "plt.tight_layout()\n",
        "plt.show()"
      ],
      "execution_count": null,
      "outputs": [
        {
          "output_type": "display_data",
          "data": {
            "image/png": "[encoded data removed]",
            "text/plain": [
              "<Figure size 720x288 with 2 Axes>"
            ]
          },
          "metadata": {
            "tags": [],
            "needs_background": "light"
          }
        }
      ]
    },
    {
      "cell_type": "markdown",
      "metadata": {
        "id": "YOSFKurf6Z1g"
      },
      "source": [
        "# Loading features from drive"
      ]
    },
    {
      "cell_type": "code",
      "metadata": {
        "id": "IUvSrf8Z5eLw"
      },
      "source": [
        "# loading features extracted from recorded audio\n",
        "feature = dataset = np.load('drive/My Drive/Thesis_new/mfcc_features_with_filter_sr44100.npy')"
      ],
      "execution_count": null,
      "outputs": []
    },
    {
      "cell_type": "code",
      "metadata": {
        "id": "XCfS7rXD5guc"
      },
      "source": [
        "# Reading in the text dataset from recorded\n",
        "with open(\"./drive/My Drive/Thesis_new/textdata_slr.txt\", 'r', encoding='utf-8') as f:\n",
        "    textdata = f.readlines()"
      ],
      "execution_count": null,
      "outputs": []
    },
    {
      "cell_type": "markdown",
      "metadata": {
        "id": "FZOj1TdC6fb-"
      },
      "source": [
        "# String to Number conversion"
      ]
    },
    {
      "cell_type": "code",
      "metadata": {
        "id": "J-HIQusU5icj"
      },
      "source": [
        "# Removing excess punctuation and newline\n",
        "import re\n",
        "import string\n",
        "regex = re.compile('[%s]' % re.escape(string.punctuation))\n",
        "textdata = [regex.sub('', h.split(\"\\n\")[0]) for h in textdata]"
      ],
      "execution_count": null,
      "outputs": []
    },
    {
      "cell_type": "code",
      "metadata": {
        "id": "61Z-9T6x5kZH"
      },
      "source": [
        "chars = [\" \", 'क', 'ख', 'ग', 'घ', 'ङ', 'च', 'छ', 'ज', 'झ', 'ञ', 'ट', 'ठ', 'ड', 'ढ','ण', 'त', 'थ', 'द', 'ध', 'न',\n",
        "         'प', 'फ', 'ब', 'भ', 'म', 'य','र', 'ल', 'व', 'श','ष', 'स', 'ह' , \"क्ष\" , \"त्र\" , \"ज्ञ\" , 'अ', 'आ', 'इ', 'ई', 'उ',\n",
        "         'ऊ', 'ए', 'ऐ', 'ओ', 'औ', 'ी', 'ि', 'ु', 'ू', 'ा', 'ँ', 'े', 'ै', 'ाे', 'ाै', 'ं', '्र', 'ृ']"
      ],
      "execution_count": null,
      "outputs": []
    },
    {
      "cell_type": "code",
      "metadata": {
        "id": "vgekGglc5l_0"
      },
      "source": [
        "cnt=0\n",
        "def get_label(ch):\n",
        "    global cnt\n",
        "    label = cnt\n",
        "    cnt+=1\n",
        "    return label\n",
        "chr2lbl = {c:get_label(c) for c in list(chars)}\n",
        "lbl2chr = {chr2lbl[c]:c for c in list(chars)}\n",
        "def get_string2label(strval):\n",
        "    idlist = []\n",
        "    for c in list(strval):\n",
        "        if c in chr2lbl:\n",
        "            idlist.append(chr2lbl[c])\n",
        "    return np.array(idlist)\n",
        "\n",
        "def get_label2string(lblarr):\n",
        "    strval = []\n",
        "    for idv in lblarr:\n",
        "        strval.append(lbl2chr[idv])\n",
        "    return ''.join(strval)"
      ],
      "execution_count": null,
      "outputs": []
    },
    {
      "cell_type": "code",
      "metadata": {
        "id": "wUv5_hhc5nzs"
      },
      "source": [
        "label = textdata"
      ],
      "execution_count": null,
      "outputs": []
    },
    {
      "cell_type": "code",
      "metadata": {
        "id": "ztZPrUBf_vw4",
        "colab": {
          "base_uri": "https://localhost:8080/",
          "height": 35
        },
        "outputId": "c42454be-9199-4718-c2b2-e948823c5ddc"
      },
      "source": [
        "label[150]"
      ],
      "execution_count": null,
      "outputs": [
        {
          "output_type": "execute_result",
          "data": {
            "text/plain": [
              "'यिनको अद्युत् प्रतिभा'"
            ],
            "application/vnd.google.colaboratory.intrinsic+json": {
              "type": "string"
            }
          },
          "metadata": {},
          "execution_count": 12
        }
      ]
    },
    {
      "cell_type": "code",
      "metadata": {
        "id": "9a2Iv_995qyy"
      },
      "source": [
        "# for encoding each text\n",
        "b = [[]for i in range(1228)]\n",
        "for i in range(1228):\n",
        "    for j in range(10):\n",
        "        encoded = get_string2label(label[i])\n",
        "        b[i] = np.stack(encoded)"
      ],
      "execution_count": null,
      "outputs": []
    },
    {
      "cell_type": "code",
      "metadata": {
        "id": "TjI1ZBdgk029",
        "colab": {
          "base_uri": "https://localhost:8080/"
        },
        "outputId": "ba809cb0-fb3b-4fc1-9387-17cca7fa3f39"
      },
      "source": [
        "b[150]"
      ],
      "execution_count": null,
      "outputs": [
        {
          "output_type": "execute_result",
          "data": {
            "text/plain": [
              "array([26, 48, 20,  1,  0, 37, 18, 26, 49, 16,  0, 21, 27, 16, 48, 24, 51])"
            ]
          },
          "metadata": {},
          "execution_count": 14
        }
      ]
    },
    {
      "cell_type": "code",
      "metadata": {
        "id": "mg4gdCc85sd5",
        "colab": {
          "base_uri": "https://localhost:8080/"
        },
        "outputId": "1d2b8512-66a8-4977-90ed-2e852f845571"
      },
      "source": [
        "max_len = max([len(x) for x in b])\n",
        "max_len"
      ],
      "execution_count": null,
      "outputs": [
        {
          "output_type": "execute_result",
          "data": {
            "text/plain": [
              "36"
            ]
          },
          "metadata": {},
          "execution_count": 15
        }
      ]
    },
    {
      "cell_type": "code",
      "metadata": {
        "id": "8r0-yvIa5u68",
        "colab": {
          "base_uri": "https://localhost:8080/"
        },
        "outputId": "6b629908-b650-42c7-ca91-f255e69c509e"
      },
      "source": [
        "new_arr = [np.pad(x, (0, max_len - len(x)), 'constant') for x in b]\n",
        "type(new_arr)"
      ],
      "execution_count": null,
      "outputs": [
        {
          "output_type": "execute_result",
          "data": {
            "text/plain": [
              "list"
            ]
          },
          "metadata": {},
          "execution_count": 16
        }
      ]
    },
    {
      "cell_type": "code",
      "metadata": {
        "id": "0ISoJXbs5xYc",
        "colab": {
          "base_uri": "https://localhost:8080/"
        },
        "outputId": "71b4818a-cb8a-4249-b39c-9d5ea355cbde"
      },
      "source": [
        "n_arr = np.array(new_arr)\n",
        "n_arr[0]"
      ],
      "execution_count": null,
      "outputs": [
        {
          "output_type": "execute_result",
          "data": {
            "text/plain": [
              "array([37, 19, 48,  1, 51, 57, 30,  0, 24, 51,  3,  0, 24, 48, 27, 51, 28,\n",
              "        0,  7,  0,  0,  0,  0,  0,  0,  0,  0,  0,  0,  0,  0,  0,  0,  0,\n",
              "        0,  0])"
            ]
          },
          "metadata": {},
          "execution_count": 17
        }
      ]
    },
    {
      "cell_type": "markdown",
      "metadata": {
        "id": "_zq99w146kg3"
      },
      "source": [
        "# Train-Test Split"
      ]
    },
    {
      "cell_type": "code",
      "metadata": {
        "id": "lQ4VIi3550R1",
        "colab": {
          "base_uri": "https://localhost:8080/"
        },
        "outputId": "1e6fe7d4-b74b-42ea-c181-cc2bebe17ef9"
      },
      "source": [
        "x_train, x_test, y_train, y_test = train_test_split(feature, n_arr , test_size=0.2)\n",
        "print (x_train.shape, y_train.shape)\n",
        "print (x_test.shape, y_test.shape)"
      ],
      "execution_count": null,
      "outputs": [
        {
          "output_type": "stream",
          "name": "stdout",
          "text": [
            "(982, 1105, 26) (982, 36)\n",
            "(246, 1105, 26) (246, 36)\n"
          ]
        }
      ]
    },
    {
      "cell_type": "code",
      "metadata": {
        "id": "tgHQOJci52qW"
      },
      "source": [
        "from __future__ import print_function\n",
        "import numpy as np\n",
        "\n",
        "from keras.optimizers import SGD\n",
        "from keras.utils import np_utils\n",
        "from keras.models import Sequential\n",
        "from keras.layers.core import Dense, Activation\n",
        "from keras.layers import LSTM, Dropout, Bidirectional, Embedding\n",
        "#from keras.layers import Dropout, Bidirectional, BatchNormalization, Embedding, GRU"
      ],
      "execution_count": null,
      "outputs": []
    },
    {
      "cell_type": "code",
      "metadata": {
        "id": "ngfQjzCZ54Xl"
      },
      "source": [
        "nb_classes = max_len"
      ],
      "execution_count": null,
      "outputs": []
    },
    {
      "cell_type": "code",
      "metadata": {
        "id": "qhh10M6IC8KR",
        "colab": {
          "base_uri": "https://localhost:8080/"
        },
        "outputId": "bae5dbdc-0565-4fa8-cba5-e7e6d83f23d6"
      },
      "source": [
        "x_train.shape[1:]"
      ],
      "execution_count": null,
      "outputs": [
        {
          "output_type": "execute_result",
          "data": {
            "text/plain": [
              "(1105, 26)"
            ]
          },
          "metadata": {},
          "execution_count": 22
        }
      ]
    },
    {
      "cell_type": "markdown",
      "metadata": {
        "id": "ekmey-eg6pj9"
      },
      "source": [
        "# LSTM Model"
      ]
    },
    {
      "cell_type": "markdown",
      "source": [
        "- Need to use CTC loss function for audio data and run the model\n",
        "- Need to compare the result of LSTM and BiLSTM model\n",
        "- Need the text output and the word error rate for accuracy"
      ],
      "metadata": {
        "id": "qSUV8azg_S9r"
      }
    },
    {
      "cell_type": "code",
      "source": [
        "input_length = Input(shape=(1,), dtype='int64')\n",
        "label_length = Input(shape=(1,), dtype='int64')\n"
      ],
      "metadata": {
        "id": "fvoWxJ71YZ_u"
      },
      "execution_count": null,
      "outputs": []
    },
    {
      "cell_type": "code",
      "source": [
        "inputs = Input(shape=x_train.shape[1:])\n",
        "lstm_output = LSTM(600, activation='tanh')(inputs)\n",
        "dense_output = Dense(nb_classes, activation='softmax')(lstm_output)\n",
        "\n",
        "model = Model(inputs=inputs, outputs=dense_output)\n"
      ],
      "metadata": {
        "id": "-brBLPNfYaIw"
      },
      "execution_count": null,
      "outputs": []
    },
    {
      "cell_type": "code",
      "source": [
        "model.compile(loss='ctc', optimizer='adam')"
      ],
      "metadata": {
        "id": "erFtCosHYkAq"
      },
      "execution_count": null,
      "outputs": []
    },
    {
      "cell_type": "code",
      "source": [
        "import tensorflow as tf\n",
        "y_pred = tf.keras.layers.Softmax()(dense_output)"
      ],
      "metadata": {
        "id": "xnQeEdsjYkK9"
      },
      "execution_count": null,
      "outputs": []
    },
    {
      "cell_type": "code",
      "source": [
        "!pip install jiwer"
      ],
      "metadata": {
        "colab": {
          "base_uri": "https://localhost:8080/"
        },
        "id": "E0huScnhZpQc",
        "outputId": "c6567502-c351-4bb6-f7b4-3e49412cd8f3"
      },
      "execution_count": null,
      "outputs": [
        {
          "output_type": "stream",
          "name": "stdout",
          "text": [
            "Collecting jiwer\n",
            "  Downloading jiwer-3.0.2-py3-none-any.whl (21 kB)\n",
            "Requirement already satisfied: click<9.0.0,>=8.1.3 in /usr/local/lib/python3.10/dist-packages (from jiwer) (8.1.6)\n",
            "Collecting rapidfuzz==2.13.7 (from jiwer)\n",
            "  Downloading rapidfuzz-2.13.7-cp310-cp310-manylinux_2_17_x86_64.manylinux2014_x86_64.whl (2.2 MB)\n",
            "\u001b[2K     \u001b[90m━━━━━━━━━━━━━━━━━━━━━━━━━━━━━━━━━━━━━━━━\u001b[0m \u001b[32m2.2/2.2 MB\u001b[0m \u001b[31m11.0 MB/s\u001b[0m eta \u001b[36m0:00:00\u001b[0m\n",
            "\u001b[?25hInstalling collected packages: rapidfuzz, jiwer\n",
            "Successfully installed jiwer-3.0.2 rapidfuzz-2.13.7\n"
          ]
        }
      ]
    },
    {
      "cell_type": "code",
      "source": [
        "from jiwer import wer"
      ],
      "metadata": {
        "id": "qVw9JDQAYkWm"
      },
      "execution_count": null,
      "outputs": []
    },
    {
      "cell_type": "code",
      "source": [
        "def ctc_decode(y_pred):\n",
        "    input_length = np.ones(y_pred.shape[0]) * y_pred.shape[1]\n",
        "    decoded = K.ctc_decode(y_pred, input_length, greedy=True)[0][0]\n",
        "    return decoded"
      ],
      "metadata": {
        "id": "qNWfsG9kZ20p"
      },
      "execution_count": null,
      "outputs": []
    },
    {
      "cell_type": "code",
      "source": [
        "# Predict on the test set\n",
        "predictions = model.predict(x_test)\n",
        "\n",
        "# Perform CTC decoding on predictions\n",
        "decoded_predictions = ctc_decode(predictions)\n",
        "\n",
        "# Convert numerical labels to strings\n",
        "predicted_strings = [get_label2string(decoded.numpy()) for decoded in decoded_predictions]\n",
        "\n",
        "# Convert numerical labels of true labels to strings\n",
        "true_strings = [get_label2string(true_label) for true_label in y_test]\n",
        "\n",
        "# Calculate CER and WER\n",
        "cer = np.mean([wer(true, pred) for true, pred in zip(true_strings, predicted_strings)])\n",
        "wer = wer(true_strings, predicted_strings)\n",
        "\n",
        "print(\"Character Error Rate (CER): {:.2%}\".format(cer))\n",
        "print(\"Word Error Rate (WER): {:.2%}\".format(wer))"
      ],
      "metadata": {
        "colab": {
          "base_uri": "https://localhost:8080/",
          "height": 442
        },
        "id": "wWQEsWI9Ykan",
        "outputId": "460f859a-9bb6-4fdf-d539-fb0d52081c22"
      },
      "execution_count": null,
      "outputs": [
        {
          "output_type": "stream",
          "name": "stdout",
          "text": [
            "8/8 [==============================] - 1s 75ms/step\n"
          ]
        },
        {
          "output_type": "error",
          "ename": "InvalidArgumentError",
          "evalue": "ignored",
          "traceback": [
            "\u001b[0;31m---------------------------------------------------------------------------\u001b[0m",
            "\u001b[0;31mInvalidArgumentError\u001b[0m                      Traceback (most recent call last)",
            "\u001b[0;32m<ipython-input-45-428ced2199c6>\u001b[0m in \u001b[0;36m<cell line: 5>\u001b[0;34m()\u001b[0m\n\u001b[1;32m      3\u001b[0m \u001b[0;34m\u001b[0m\u001b[0m\n\u001b[1;32m      4\u001b[0m \u001b[0;31m# Perform CTC decoding on predictions\u001b[0m\u001b[0;34m\u001b[0m\u001b[0;34m\u001b[0m\u001b[0m\n\u001b[0;32m----> 5\u001b[0;31m \u001b[0mdecoded_predictions\u001b[0m \u001b[0;34m=\u001b[0m \u001b[0mctc_decode\u001b[0m\u001b[0;34m(\u001b[0m\u001b[0mpredictions\u001b[0m\u001b[0;34m)\u001b[0m\u001b[0;34m\u001b[0m\u001b[0;34m\u001b[0m\u001b[0m\n\u001b[0m\u001b[1;32m      6\u001b[0m \u001b[0;34m\u001b[0m\u001b[0m\n\u001b[1;32m      7\u001b[0m \u001b[0;31m# Convert numerical labels to strings\u001b[0m\u001b[0;34m\u001b[0m\u001b[0;34m\u001b[0m\u001b[0m\n",
            "\u001b[0;32m<ipython-input-42-135aef1ad937>\u001b[0m in \u001b[0;36mctc_decode\u001b[0;34m(y_pred)\u001b[0m\n\u001b[1;32m      1\u001b[0m \u001b[0;32mdef\u001b[0m \u001b[0mctc_decode\u001b[0m\u001b[0;34m(\u001b[0m\u001b[0my_pred\u001b[0m\u001b[0;34m)\u001b[0m\u001b[0;34m:\u001b[0m\u001b[0;34m\u001b[0m\u001b[0;34m\u001b[0m\u001b[0m\n\u001b[1;32m      2\u001b[0m     \u001b[0minput_length\u001b[0m \u001b[0;34m=\u001b[0m \u001b[0mnp\u001b[0m\u001b[0;34m.\u001b[0m\u001b[0mones\u001b[0m\u001b[0;34m(\u001b[0m\u001b[0my_pred\u001b[0m\u001b[0;34m.\u001b[0m\u001b[0mshape\u001b[0m\u001b[0;34m[\u001b[0m\u001b[0;36m0\u001b[0m\u001b[0;34m]\u001b[0m\u001b[0;34m)\u001b[0m \u001b[0;34m*\u001b[0m \u001b[0my_pred\u001b[0m\u001b[0;34m.\u001b[0m\u001b[0mshape\u001b[0m\u001b[0;34m[\u001b[0m\u001b[0;36m1\u001b[0m\u001b[0;34m]\u001b[0m\u001b[0;34m\u001b[0m\u001b[0;34m\u001b[0m\u001b[0m\n\u001b[0;32m----> 3\u001b[0;31m     \u001b[0mdecoded\u001b[0m \u001b[0;34m=\u001b[0m \u001b[0mK\u001b[0m\u001b[0;34m.\u001b[0m\u001b[0mctc_decode\u001b[0m\u001b[0;34m(\u001b[0m\u001b[0my_pred\u001b[0m\u001b[0;34m,\u001b[0m \u001b[0minput_length\u001b[0m\u001b[0;34m,\u001b[0m \u001b[0mgreedy\u001b[0m\u001b[0;34m=\u001b[0m\u001b[0;32mTrue\u001b[0m\u001b[0;34m)\u001b[0m\u001b[0;34m[\u001b[0m\u001b[0;36m0\u001b[0m\u001b[0;34m]\u001b[0m\u001b[0;34m[\u001b[0m\u001b[0;36m0\u001b[0m\u001b[0;34m]\u001b[0m\u001b[0;34m\u001b[0m\u001b[0;34m\u001b[0m\u001b[0m\n\u001b[0m\u001b[1;32m      4\u001b[0m     \u001b[0;32mreturn\u001b[0m \u001b[0mdecoded\u001b[0m\u001b[0;34m\u001b[0m\u001b[0;34m\u001b[0m\u001b[0m\n",
            "\u001b[0;32m/usr/local/lib/python3.10/dist-packages/tensorflow/python/util/traceback_utils.py\u001b[0m in \u001b[0;36merror_handler\u001b[0;34m(*args, **kwargs)\u001b[0m\n\u001b[1;32m    151\u001b[0m     \u001b[0;32mexcept\u001b[0m \u001b[0mException\u001b[0m \u001b[0;32mas\u001b[0m \u001b[0me\u001b[0m\u001b[0;34m:\u001b[0m\u001b[0;34m\u001b[0m\u001b[0;34m\u001b[0m\u001b[0m\n\u001b[1;32m    152\u001b[0m       \u001b[0mfiltered_tb\u001b[0m \u001b[0;34m=\u001b[0m \u001b[0m_process_traceback_frames\u001b[0m\u001b[0;34m(\u001b[0m\u001b[0me\u001b[0m\u001b[0;34m.\u001b[0m\u001b[0m__traceback__\u001b[0m\u001b[0;34m)\u001b[0m\u001b[0;34m\u001b[0m\u001b[0;34m\u001b[0m\u001b[0m\n\u001b[0;32m--> 153\u001b[0;31m       \u001b[0;32mraise\u001b[0m \u001b[0me\u001b[0m\u001b[0;34m.\u001b[0m\u001b[0mwith_traceback\u001b[0m\u001b[0;34m(\u001b[0m\u001b[0mfiltered_tb\u001b[0m\u001b[0;34m)\u001b[0m \u001b[0;32mfrom\u001b[0m \u001b[0;32mNone\u001b[0m\u001b[0;34m\u001b[0m\u001b[0;34m\u001b[0m\u001b[0m\n\u001b[0m\u001b[1;32m    154\u001b[0m     \u001b[0;32mfinally\u001b[0m\u001b[0;34m:\u001b[0m\u001b[0;34m\u001b[0m\u001b[0;34m\u001b[0m\u001b[0m\n\u001b[1;32m    155\u001b[0m       \u001b[0;32mdel\u001b[0m \u001b[0mfiltered_tb\u001b[0m\u001b[0;34m\u001b[0m\u001b[0;34m\u001b[0m\u001b[0m\n",
            "\u001b[0;32m/usr/local/lib/python3.10/dist-packages/keras/backend.py\u001b[0m in \u001b[0;36mctc_decode\u001b[0;34m(y_pred, input_length, greedy, beam_width, top_paths)\u001b[0m\n\u001b[1;32m   7090\u001b[0m     \u001b[0mnum_samples\u001b[0m\u001b[0;34m,\u001b[0m \u001b[0mnum_steps\u001b[0m \u001b[0;34m=\u001b[0m \u001b[0minput_shape\u001b[0m\u001b[0;34m[\u001b[0m\u001b[0;36m0\u001b[0m\u001b[0;34m]\u001b[0m\u001b[0;34m,\u001b[0m \u001b[0minput_shape\u001b[0m\u001b[0;34m[\u001b[0m\u001b[0;36m1\u001b[0m\u001b[0;34m]\u001b[0m\u001b[0;34m\u001b[0m\u001b[0;34m\u001b[0m\u001b[0m\n\u001b[1;32m   7091\u001b[0m     y_pred = tf.math.log(\n\u001b[0;32m-> 7092\u001b[0;31m         \u001b[0mtf\u001b[0m\u001b[0;34m.\u001b[0m\u001b[0mcompat\u001b[0m\u001b[0;34m.\u001b[0m\u001b[0mv1\u001b[0m\u001b[0;34m.\u001b[0m\u001b[0mtranspose\u001b[0m\u001b[0;34m(\u001b[0m\u001b[0my_pred\u001b[0m\u001b[0;34m,\u001b[0m \u001b[0mperm\u001b[0m\u001b[0;34m=\u001b[0m\u001b[0;34m[\u001b[0m\u001b[0;36m1\u001b[0m\u001b[0;34m,\u001b[0m \u001b[0;36m0\u001b[0m\u001b[0;34m,\u001b[0m \u001b[0;36m2\u001b[0m\u001b[0;34m]\u001b[0m\u001b[0;34m)\u001b[0m \u001b[0;34m+\u001b[0m \u001b[0mepsilon\u001b[0m\u001b[0;34m(\u001b[0m\u001b[0;34m)\u001b[0m\u001b[0;34m\u001b[0m\u001b[0;34m\u001b[0m\u001b[0m\n\u001b[0m\u001b[1;32m   7093\u001b[0m     )\n\u001b[1;32m   7094\u001b[0m     \u001b[0minput_length\u001b[0m \u001b[0;34m=\u001b[0m \u001b[0mtf\u001b[0m\u001b[0;34m.\u001b[0m\u001b[0mcast\u001b[0m\u001b[0;34m(\u001b[0m\u001b[0minput_length\u001b[0m\u001b[0;34m,\u001b[0m \u001b[0mtf\u001b[0m\u001b[0;34m.\u001b[0m\u001b[0mint32\u001b[0m\u001b[0;34m)\u001b[0m\u001b[0;34m\u001b[0m\u001b[0;34m\u001b[0m\u001b[0m\n",
            "\u001b[0;31mInvalidArgumentError\u001b[0m: {{function_node __wrapped__Transpose_device_/job:localhost/replica:0/task:0/device:GPU:0}} transpose expects a vector of size 2. But input(1) is a vector of size 3 [Op:Transpose]"
          ]
        }
      ]
    },
    {
      "cell_type": "code",
      "source": [],
      "metadata": {
        "id": "LPihrvNCYkeF"
      },
      "execution_count": null,
      "outputs": []
    }
  ]
}